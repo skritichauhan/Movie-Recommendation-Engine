{
 "cells": [
  {
   "cell_type": "code",
   "execution_count": 1,
   "metadata": {},
   "outputs": [],
   "source": [
    "#import modules\n",
    "import os #functions for interacting with os\n",
    "import time #handling time\n",
    "import gc #garbage collector\n",
    "import argparse #command line parsing model"
   ]
  },
  {
   "cell_type": "code",
   "execution_count": 2,
   "metadata": {},
   "outputs": [],
   "source": [
    "import pandas as pd\n",
    "from scipy.sparse import csr_matrix\n",
    "from sklearn.neighbors import NearestNeighbors"
   ]
  },
  {
   "cell_type": "code",
   "execution_count": 3,
   "metadata": {},
   "outputs": [
    {
     "name": "stdout",
     "output_type": "stream",
     "text": [
      "Requirement already satisfied: fuzzywuzzy in c:\\users\\skrit\\anaconda3\\lib\\site-packages (0.18.0)\n",
      "Note: you may need to restart the kernel to use updated packages.\n"
     ]
    }
   ],
   "source": [
    "pip install fuzzywuzzy"
   ]
  },
  {
   "cell_type": "code",
   "execution_count": 4,
   "metadata": {},
   "outputs": [
    {
     "name": "stderr",
     "output_type": "stream",
     "text": [
      "C:\\Users\\skrit\\Anaconda3\\lib\\site-packages\\fuzzywuzzy\\fuzz.py:11: UserWarning: Using slow pure-python SequenceMatcher. Install python-Levenshtein to remove this warning\n",
      "  warnings.warn('Using slow pure-python SequenceMatcher. Install python-Levenshtein to remove this warning')\n"
     ]
    }
   ],
   "source": [
    "from fuzzywuzzy import fuzz"
   ]
  },
  {
   "cell_type": "code",
   "execution_count": 5,
   "metadata": {},
   "outputs": [],
   "source": [
    "class KnnRecommender:\n",
    "    \"\"\"\n",
    "    It item-based collaborative filtering recommender with KNN\n",
    "    \"\"\"\n",
    "    def __init__(self, path_movies, path_ratings):\n",
    "        \"\"\"\n",
    "        Recommender requires path to data: movies data and ratings data\n",
    "        Parameters\n",
    "        ----------\n",
    "        path_movies: str,file path of movies.csv\n",
    "        path_ratings: str,file path of ratings.csv\n",
    "        \"\"\"\n",
    "        self.path_movies = path_movies\n",
    "        self.path_ratings = path_ratings\n",
    "        self.movie_rating_thres = 0\n",
    "        self.user_rating_thres = 0\n",
    "        self.model = NearestNeighbors()\n",
    "        \n",
    "    def set_filter_params(self, movie_rating_thres, user_rating_thres):\n",
    "        \"\"\"\n",
    "        set rating frequency threshold to filter less-known movies and\n",
    "        less active users i.e Taking popularity in consideration\n",
    "        Parameters\n",
    "        ----------\n",
    "        movie_rating_thres: int, minimum number of ratings received by users\n",
    "        user_rating_thres: int, minimum number of ratings a user gives\n",
    "        \"\"\"\n",
    "        self.movie_rating_thres = movie_rating_thres\n",
    "        self.user_rating_thres = user_rating_thres\n",
    "        \n",
    "    def set_model_params(self, n_neighbors, algorithm, metric, n_jobs=None):\n",
    "        \"\"\"\n",
    "        set model params for sklearn.neighbors.NearestNeighbors\n",
    "        Parameters\n",
    "        ----------\n",
    "        n_neighbors: int, optional (default = 5)\n",
    "        algorithm: {'auto', 'ball_tree', 'kd_tree', 'brute'}, optional\n",
    "        metric: string or callable, default 'minkowski', or one of\n",
    "            ['cityblock', 'cosine', 'euclidean', 'l1', 'l2', 'manhattan']\n",
    "        n_jobs: int or None, optional (default=None)\n",
    "        \"\"\"\n",
    "        if n_jobs and (n_jobs > 1 or n_jobs == -1):\n",
    "            os.environ['JOBLIB_TEMP_FOLDER'] = '/tmp'\n",
    "        self.model.set_params(**{\n",
    "            'n_neighbors': n_neighbors,\n",
    "            'algorithm': algorithm,\n",
    "            'metric': metric,\n",
    "            'n_jobs': n_jobs})\n",
    "    def _prep_data(self):\n",
    "        \"\"\"\n",
    "        prepare data for recommender\n",
    "        1. movie-user scipy sparse matrix\n",
    "        2. hashmap of movie to row index in movie-user scipy sparse matrix\n",
    "        \"\"\"\n",
    "        # read data\n",
    "        df_movies = pd.read_csv(\n",
    "            os.path.join(self.path_movies),\n",
    "            usecols=['movieId', 'title'],\n",
    "            dtype={'movieId': 'int32', 'title': 'str'})\n",
    "        df_ratings = pd.read_csv(\n",
    "            os.path.join(self.path_ratings),\n",
    "            usecols=['userId', 'movieId', 'rating'],\n",
    "            dtype={'userId': 'int32', 'movieId': 'int32', 'rating': 'float32'})\n",
    "        # filter data\n",
    "        df_movies_cnt = pd.DataFrame(\n",
    "            df_ratings.groupby('movieId').size(),\n",
    "            columns=['count'])\n",
    "        popular_movies = list(set(df_movies_cnt.query('count >= @self.movie_rating_thres').index))  # noqa\n",
    "        movies_filter = df_ratings.movieId.isin(popular_movies).values\n",
    "\n",
    "        df_users_cnt = pd.DataFrame(\n",
    "            df_ratings.groupby('userId').size(),\n",
    "            columns=['count'])\n",
    "        active_users = list(set(df_users_cnt.query('count >= @self.user_rating_thres').index))  # noqa\n",
    "        users_filter = df_ratings.userId.isin(active_users).values\n",
    "\n",
    "        df_ratings_filtered = df_ratings[movies_filter & users_filter]\n",
    "\n",
    "        # pivot and create movie-user matrix\n",
    "        movie_user_mat = df_ratings_filtered.pivot(\n",
    "            index='movieId', columns='userId', values='rating').fillna(0)\n",
    "        # create mapper from movie title to index\n",
    "        hashmap = {\n",
    "            movie: i for i, movie in\n",
    "            enumerate(list(df_movies.set_index('movieId').loc[movie_user_mat.index].title)) # noqa\n",
    "        }\n",
    "        # transform matrix to scipy sparse matrix\n",
    "        movie_user_mat_sparse = csr_matrix(movie_user_mat.values)\n",
    "\n",
    "        # clean up\n",
    "        del df_movies, df_movies_cnt, df_users_cnt\n",
    "        del df_ratings, df_ratings_filtered, movie_user_mat\n",
    "        gc.collect()\n",
    "        return movie_user_mat_sparse, hashmap\n",
    "    def _fuzzy_matching(self, hashmap, fav_movie):\n",
    "        \"\"\"\n",
    "        return the closest match via fuzzy ratio.\n",
    "        If no match found, return None\n",
    "        Parameters\n",
    "        ----------\n",
    "        hashmap: dict, map movie title name to index of the movie in data\n",
    "        fav_movie: str, name of user input movie\n",
    "        Return\n",
    "        ------\n",
    "        index of the closest match\n",
    "        \"\"\"\n",
    "        match_tuple = []\n",
    "        # get match\n",
    "        for title, idx in hashmap.items():\n",
    "            ratio = fuzz.ratio(title.lower(), fav_movie.lower())\n",
    "            if ratio >= 60:\n",
    "                match_tuple.append((title, idx, ratio))\n",
    "        # sort\n",
    "        match_tuple = sorted(match_tuple, key=lambda x: x[2])[::-1]\n",
    "        if not match_tuple:\n",
    "            print('Oops! No match is found')\n",
    "        else:\n",
    "            print('Found possible matches in our database: '\n",
    "                  '{0}\\n'.format([x[0] for x in match_tuple]))\n",
    "            return match_tuple[0][1]\n",
    "    def _inference(self, model, data, hashmap,\n",
    "                   fav_movie, n_recommendations):\n",
    "        \"\"\"\n",
    "        return top n similar movie recommendations based on user's input movie\n",
    "        Parameters\n",
    "        ----------\n",
    "        model: sklearn model, knn model\n",
    "        data: movie-user matrix\n",
    "        hashmap: dict, map movie title name to index of the movie in data\n",
    "        fav_movie: str, name of user input movie\n",
    "        n_recommendations: int, top n recommendations\n",
    "        Return\n",
    "        ------\n",
    "        list of top n similar movie recommendations\n",
    "        \"\"\"\n",
    "        # fit\n",
    "        model.fit(data)\n",
    "        # get input movie index\n",
    "        print('You have input movie:', fav_movie)\n",
    "        idx = self._fuzzy_matching(hashmap, fav_movie)\n",
    "        # inference\n",
    "        print('Recommendation system start to make inference')\n",
    "        print('......\\n')\n",
    "        t0 = time.time()\n",
    "        distances, indices = model.kneighbors(\n",
    "            data[idx],\n",
    "            n_neighbors=n_recommendations+1)\n",
    "        # get list of raw idx of recommendations\n",
    "        raw_recommends = \\\n",
    "            sorted(\n",
    "                list(\n",
    "                    zip(\n",
    "                        indices.squeeze().tolist(),\n",
    "                        distances.squeeze().tolist()\n",
    "                    )\n",
    "                ),\n",
    "                key=lambda x: x[1]\n",
    "            )[:0:-1]\n",
    "        print('It took my system {:.2f}s to make inference \\n\\\n",
    "              '.format(time.time() - t0))\n",
    "        # return recommendation (movieId, distance)\n",
    "        return raw_recommends\n",
    "    def make_recommendations(self, fav_movie, n_recommendations):\n",
    "        \"\"\"\n",
    "        make top n movie recommendations\n",
    "        Parameters\n",
    "        ----------\n",
    "        fav_movie: str, name of user input movie\n",
    "        n_recommendations: int, top n recommendations\n",
    "        \"\"\"\n",
    "        # get data\n",
    "        movie_user_mat_sparse, hashmap = self._prep_data()\n",
    "        # get recommendations\n",
    "        raw_recommends = self._inference(\n",
    "            self.model, movie_user_mat_sparse, hashmap,\n",
    "            fav_movie, n_recommendations)\n",
    "        # print results\n",
    "        reverse_hashmap = {v: k for k, v in hashmap.items()}\n",
    "        print('Recommendations for {}:'.format(fav_movie))\n",
    "        for i, (idx, dist) in enumerate(raw_recommends):\n",
    "            print('{0}: {1}, with distance '\n",
    "                  'of {2}'.format(i+1, reverse_hashmap[idx], dist))"
   ]
  },
  {
   "cell_type": "code",
   "execution_count": 6,
   "metadata": {},
   "outputs": [],
   "source": [
    "recommender = KnnRecommender(\"movies.csv\",\"ratings.csv\")"
   ]
  },
  {
   "cell_type": "code",
   "execution_count": 7,
   "metadata": {},
   "outputs": [],
   "source": [
    "recommender.set_filter_params(50, 50)"
   ]
  },
  {
   "cell_type": "code",
   "execution_count": 8,
   "metadata": {},
   "outputs": [],
   "source": [
    "recommender.set_model_params(20, 'brute', 'cosine', -1)"
   ]
  },
  {
   "cell_type": "code",
   "execution_count": 9,
   "metadata": {},
   "outputs": [
    {
     "name": "stdout",
     "output_type": "stream",
     "text": [
      "You have input movie: Sherlock Holmes\n",
      "Found possible matches in our database: ['Sherlock Holmes (2010)', 'Sherlock Holmes (2009)', 'Young Sherlock Holmes (1985)', 'Sherlock Holmes Faces Death (1943)']\n",
      "\n",
      "Recommendation system start to make inference\n",
      "......\n",
      "\n",
      "It took my system 1.39s to make inference \n",
      "              \n",
      "Recommendations for Sherlock Holmes:\n",
      "1: Hitch Hikers Guide to the Galaxy, The (1981), with distance of 0.9272758364677429\n",
      "2: Adjustment Bureau, The (2011), with distance of 0.927141010761261\n",
      "3: John Carter (2012), with distance of 0.9269044399261475\n",
      "4: Source Code (2011), with distance of 0.9268572926521301\n",
      "5: Cowboys & Aliens (2011), with distance of 0.9261566400527954\n",
      "6: Looper (2012), with distance of 0.925642192363739\n",
      "7: X-Men: First Class (2011), with distance of 0.9249414205551147\n",
      "8: Sherlock Holmes: A Game of Shadows (2011), with distance of 0.9174965620040894\n",
      "9: Total Recall (2012), with distance of 0.9138263463973999\n",
      "10: Sherlock Holmes (2009), with distance of 0.9136356711387634\n"
     ]
    }
   ],
   "source": [
    "recommender.make_recommendations(\"Sherlock Holmes\", 10)"
   ]
  },
  {
   "cell_type": "code",
   "execution_count": 10,
   "metadata": {},
   "outputs": [
    {
     "name": "stdout",
     "output_type": "stream",
     "text": [
      "You have input movie: Iron Man\n",
      "Found possible matches in our database: ['Iron Man (2008)', 'Iron Man 3 (2013)', 'Iron Man 2 (2010)']\n",
      "\n",
      "Recommendation system start to make inference\n",
      "......\n",
      "\n",
      "It took my system 1.00s to make inference \n",
      "              \n",
      "Recommendations for Iron Man:\n",
      "1: Bourne Ultimatum, The (2007), with distance of 0.42213231325149536\n",
      "2: Sherlock Holmes (2009), with distance of 0.4194795489311218\n",
      "3: Inception (2010), with distance of 0.3934664726257324\n",
      "4: Avatar (2009), with distance of 0.3836246728897095\n",
      "5: WALL·E (2008), with distance of 0.3835691213607788\n",
      "6: Star Trek (2009), with distance of 0.37533360719680786\n",
      "7: Batman Begins (2005), with distance of 0.37033611536026\n",
      "8: Iron Man 2 (2010), with distance of 0.3703038692474365\n",
      "9: Avengers, The (2012), with distance of 0.35819315910339355\n",
      "10: Dark Knight, The (2008), with distance of 0.3013307452201843\n"
     ]
    }
   ],
   "source": [
    "recommender.make_recommendations(\"Iron Man\", 10)"
   ]
  },
  {
   "cell_type": "markdown",
   "metadata": {},
   "source": [
    "# Recommender System running successfully!"
   ]
  },
  {
   "cell_type": "code",
   "execution_count": null,
   "metadata": {},
   "outputs": [],
   "source": []
  }
 ],
 "metadata": {
  "kernelspec": {
   "display_name": "Python 3",
   "language": "python",
   "name": "python3"
  },
  "language_info": {
   "codemirror_mode": {
    "name": "ipython",
    "version": 3
   },
   "file_extension": ".py",
   "mimetype": "text/x-python",
   "name": "python",
   "nbconvert_exporter": "python",
   "pygments_lexer": "ipython3",
   "version": "3.7.4"
  }
 },
 "nbformat": 4,
 "nbformat_minor": 2
}
